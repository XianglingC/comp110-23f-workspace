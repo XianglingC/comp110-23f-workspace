{
 "cells": [
  {
   "cell_type": "markdown",
   "metadata": {},
   "source": [
    "# Intro to Jupyter Notebooks\n",
    "Here I will demonstrate some funcionality of jupyter notebooks.\n",
    "\n",
    "\n"
   ]
  },
  {
   "cell_type": "markdown",
   "metadata": {},
   "source": [
    "## Running Python\n",
    "\n",
    "* Create a Python cell by perssing `+code`\n",
    "* Always prints expression on last line"
   ]
  },
  {
   "cell_type": "code",
   "execution_count": 1,
   "metadata": {},
   "outputs": [
    {
     "data": {
      "text/plain": [
       "'Alyssa is cool.'"
      ]
     },
     "execution_count": 1,
     "metadata": {},
     "output_type": "execute_result"
    }
   ],
   "source": [
    "person: str = \"Alyssa\" #try changing the variable name and see what happens\n",
    "person + \" is cool.\""
   ]
  },
  {
   "cell_type": "markdown",
   "metadata": {},
   "source": [
    "## Varaible\n",
    "\n",
    "* Variables can be used between cells (can use the previous variable)\n",
    "* `Restart` clears variables/memory\n",
    "* Must run cell where variables is defined before running cell that uses variable\n"
   ]
  },
  {
   "cell_type": "code",
   "execution_count": 2,
   "metadata": {},
   "outputs": [
    {
     "name": "stdout",
     "output_type": "stream",
     "text": [
      "Howdy, Alyssa!\n"
     ]
    }
   ],
   "source": [
    "print(f\"Howdy, {person}!\")"
   ]
  },
  {
   "cell_type": "markdown",
   "metadata": {},
   "source": [
    "## Making Changes and Re-opening a Notebook\n",
    "\n",
    "0. (If making changes.) Save!\n",
    "1. Restart kernel.\n",
    "2. `Clear All outputs`.\n",
    "3. Run All."
   ]
  },
  {
   "cell_type": "markdown",
   "metadata": {},
   "source": [
    "## Importing functions\n",
    "\n",
    "* You can import function in jupyter notebooks like you do in other python files"
   ]
  },
  {
   "cell_type": "code",
   "execution_count": 3,
   "metadata": {},
   "outputs": [
    {
     "data": {
      "text/plain": [
       "5"
      ]
     },
     "execution_count": 3,
     "metadata": {},
     "output_type": "execute_result"
    }
   ],
   "source": [
    "from my_function import addition\n",
    "addition(2, 3)"
   ]
  }
 ],
 "metadata": {
  "kernelspec": {
   "display_name": "Python 3",
   "language": "python",
   "name": "python3"
  },
  "language_info": {
   "codemirror_mode": {
    "name": "ipython",
    "version": 3
   },
   "file_extension": ".py",
   "mimetype": "text/x-python",
   "name": "python",
   "nbconvert_exporter": "python",
   "pygments_lexer": "ipython3",
   "version": "3.11.4"
  }
 },
 "nbformat": 4,
 "nbformat_minor": 2
}
